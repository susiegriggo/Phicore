{
 "cells": [
  {
   "cell_type": "code",
   "execution_count": 1,
   "id": "9a9d4d3d-87fd-486d-a37a-f5e0b330a176",
   "metadata": {},
   "outputs": [],
   "source": [
    "import os\n",
    "import sys\n",
    "import pandas as pd\n",
    "import seaborn as sns\n",
    "import matplotlib.pyplot as plt\n",
    "import Bio\n",
    "from math import log\n",
    "\n",
    "sys.path.insert(0,'../')\n",
    "from PhicoreModules import parse_genbank, mean, median, mode, visualise\n",
    "from PhicoreModules import parse_genbank, median, mean, stdev, mode\n",
    "from PhicoreModules import get_features_of_type, get_features_lengths, get_gc_content, get_coding_density, get_distribution_of_stops # Przemek's functions\n",
    "from PhicoreModules import get_mean_cds_length_rec_window, get_rolling_gc, get_rolling_mean_cds # George's functions\n",
    "from PhicoreModules import write_df_to_artemis, non_overlapping_kmers"
   ]
  },
  {
   "cell_type": "code",
   "execution_count": 2,
   "id": "6c517808-df69-492e-824e-9ea2deb32c9d",
   "metadata": {},
   "outputs": [],
   "source": [
    "def calc_coding_density(filestub='Bc01.fasta', gbkdir = '../genbank/'):\n",
    "    for file in os.listdir(gbkdir):\n",
    "        if not filestub in file:\n",
    "            continue\n",
    "        df = get_distribution_of_stops(record, window=210, step=1)"
   ]
  },
  {
   "cell_type": "code",
   "execution_count": 3,
   "id": "7488a655-9039-4267-8e49-5637be6c22fc",
   "metadata": {},
   "outputs": [],
   "source": [
    "def stop_entropy_per_strand(entry: Bio.SeqRecord.SeqRecord, strand: int = 1, window: int = 1000, step: int = 1, verbose: bool = False) -> list[int]:\n",
    "    \"\"\"\n",
    "    Calculate the stops per strand of the sequence\n",
    "    \n",
    "    :param entry: the genbank entry\n",
    "    :param strand: an int {-3, -2, -1, 1, 2, 3}. If the int is -ve we will reverse complement\n",
    "    :param window: the window size to use\n",
    "    :param step: the interval between windows\n",
    "    :param verbose: more output (to stderr)\n",
    "    :return: a list with the frequency per window\n",
    "    \"\"\"\n",
    "    \n",
    "    if strand > 3 or strand < -3 or strand == 0:\n",
    "        print(f\"Strand must be an int of -3, -2, -1, 1, 2, 3\", file=sys.stderr)\n",
    "        return None\n",
    "    \n",
    "    if window % 3:\n",
    "        print(\"Please make window a multiple of 3\", file=sys.stderr)\n",
    "        return None\n",
    "    \n",
    "    s = str(record.seq).upper()\n",
    "    posn = strand\n",
    "    \n",
    "    if strand < 0:\n",
    "        s = str(record.seq.reverse_complement().upper())\n",
    "        posn  = -strand\n",
    "    \n",
    "    print(f\"Start of {strand} is {s[posn:10]}\", file=sys.stderr)\n",
    "    result = {}\n",
    "    while (posn+window+step) < len(s):\n",
    "        w = s[posn:posn+window]\n",
    "        entropy = 0\n",
    "        \n",
    "        kmers =  non_overlapping_kmers(w, 3)\n",
    "        for n in [kmers.count(\"TAG\"), kmers.count(\"TAA\"), kmers.count(\"TGA\")]:\n",
    "            pri = n / ( (window/3) * (1/64) )\n",
    "            if posn<5:\n",
    "                print(f\"{strand}\\t{posn}\\t{n}\\t{pri}\", file=sys.stderr)\n",
    "            entropy += pri * log(pri+sys.float_info.epsilon)\n",
    "        result[posn-strand] = -entropy\n",
    "        posn += step\n",
    "    \n",
    "    return result\n",
    "        \n",
    "        \n",
    "    "
   ]
  },
  {
   "cell_type": "code",
   "execution_count": null,
   "id": "34b92dd3-4957-4e57-ad05-14ab88069066",
   "metadata": {},
   "outputs": [
    {
     "name": "stderr",
     "output_type": "stream",
     "text": [
      "/home/edwa0468/.local/lib/python3.9/site-packages/Bio/GenBank/Scanner.py:1554: BiopythonParserWarning: Malformed LOCUS line found - is this correct?\n",
      ":'LOCUS       cluster_001_consensus    100102 bp    DNA             PHG\\n'\n",
      "  warnings.warn(\n",
      "Calculating entropy for 1\n",
      "Start of 1 is GCAGAAGAG\n",
      "1\t1\t20\t0.960960960960961\n",
      "1\t1\t17\t0.8168168168168168\n",
      "1\t1\t16\t0.7687687687687688\n",
      "1\t2\t34\t1.6336336336336337\n",
      "1\t2\t69\t3.315315315315315\n",
      "1\t2\t63\t3.027027027027027\n",
      "1\t3\t11\t0.5285285285285285\n",
      "1\t3\t41\t1.96996996996997\n",
      "1\t3\t40\t1.921921921921922\n",
      "1\t4\t20\t0.960960960960961\n",
      "1\t4\t17\t0.8168168168168168\n",
      "1\t4\t16\t0.7687687687687688\n",
      "Calculating entropy for 2\n",
      "Start of 2 is CAGAAGAG\n",
      "2\t2\t34\t1.6336336336336337\n",
      "2\t2\t69\t3.315315315315315\n",
      "2\t2\t63\t3.027027027027027\n",
      "2\t3\t11\t0.5285285285285285\n",
      "2\t3\t41\t1.96996996996997\n",
      "2\t3\t40\t1.921921921921922\n",
      "2\t4\t20\t0.960960960960961\n",
      "2\t4\t17\t0.8168168168168168\n",
      "2\t4\t16\t0.7687687687687688\n",
      "Calculating entropy for 3\n",
      "Start of 3 is AGAAGAG\n",
      "3\t3\t11\t0.5285285285285285\n",
      "3\t3\t41\t1.96996996996997\n",
      "3\t3\t40\t1.921921921921922\n",
      "3\t4\t20\t0.960960960960961\n",
      "3\t4\t17\t0.8168168168168168\n",
      "3\t4\t16\t0.7687687687687688\n"
     ]
    }
   ],
   "source": [
    "file = '../genbank/Bc01.fasta-TAA.gbk'\n",
    "nats = pd.DataFrame()\n",
    "for record in parse_genbank(file):\n",
    "    for i in [1, 2, 3, -1, -2, -3]:\n",
    "        print(f\"Calculating entropy for {i}\", file=sys.stderr)\n",
    "        data = stop_entropy_per_strand(record, strand=i, window=3996, step=1)\n",
    "        if not data:\n",
    "            print(f\"Bugger {i}\", file=sys.stderr)\n",
    "        if nats.empty:\n",
    "            nats = pd.DataFrame.from_dict(data, orient='index',columns=[i]).reset_index()\n",
    "            nats = nats.rename(columns={'index': 'x'})\n",
    "        else:\n",
    "            nats[i] = nats['x'].map(data)"
   ]
  },
  {
   "cell_type": "code",
   "execution_count": null,
   "id": "c4d78989-c082-40dd-8b79-7d60a1e69d3f",
   "metadata": {},
   "outputs": [],
   "source": [
    "g = nats.plot(x='x', figsize=(40, 8))\n",
    "t = g.set_xlabel('Position in genome (bp)')\n",
    "t = g.set_ylabel('Stop codon entropy')"
   ]
  },
  {
   "cell_type": "code",
   "execution_count": null,
   "id": "59988ab6-a7d4-4c11-8de8-37a4777584e6",
   "metadata": {},
   "outputs": [],
   "source": [
    "nats"
   ]
  },
  {
   "cell_type": "code",
   "execution_count": null,
   "id": "acca7fc5-f517-45f4-b2f1-37a051038929",
   "metadata": {},
   "outputs": [],
   "source": []
  }
 ],
 "metadata": {
  "kernelspec": {
   "display_name": "Python [conda env:miniconda3-bioinformatics]",
   "language": "python",
   "name": "conda-env-miniconda3-bioinformatics-py"
  },
  "language_info": {
   "codemirror_mode": {
    "name": "ipython",
    "version": 3
   },
   "file_extension": ".py",
   "mimetype": "text/x-python",
   "name": "python",
   "nbconvert_exporter": "python",
   "pygments_lexer": "ipython3",
   "version": "3.9.13"
  }
 },
 "nbformat": 4,
 "nbformat_minor": 5
}
