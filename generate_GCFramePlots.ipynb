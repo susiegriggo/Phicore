{
 "cells": [
  {
   "cell_type": "code",
   "execution_count": 1,
   "id": "037fc73d-7a79-424c-a63b-8f910786dc7c",
   "metadata": {},
   "outputs": [],
   "source": [
    "#imports\n",
    "from GCframeplot import GCFramePlot\n",
    "import re "
   ]
  },
  {
   "cell_type": "code",
   "execution_count": 2,
   "id": "5d17754a-d587-4e09-a243-fb3cbfa04c65",
   "metadata": {},
   "outputs": [
    {
     "name": "stdout",
     "output_type": "stream",
     "text": [
      "99492\n",
      "6619\n"
     ]
    }
   ],
   "source": [
    "genome = 'test-data/Bc02.fasta' \n",
    "out = 'test.txt'\n",
    "GCFramePlot(genome, 210, 15, out).generateTable()"
   ]
  },
  {
   "cell_type": "code",
   "execution_count": 4,
   "id": "d3a4e07e-d7a7-405d-9821-1d7511ef7f6a",
   "metadata": {},
   "outputs": [
    {
     "data": {
      "text/plain": [
       "99495"
      ]
     },
     "execution_count": 4,
     "metadata": {},
     "output_type": "execute_result"
    }
   ],
   "source": [
    "6619*15+210"
   ]
  },
  {
   "cell_type": "code",
   "execution_count": 31,
   "id": "cf150d7f-27ff-4c04-a722-0e2f55c49c74",
   "metadata": {},
   "outputs": [],
   "source": [
    "#generate for a range of step sizes and window sizes \n",
    "step_size = [9,18, 36, 72, 144, 288]\n",
    "window_size = [60, 120, 240, 480, 960]\n",
    "genome = 'test-data/Bc02.fasta' "
   ]
  },
  {
   "cell_type": "code",
   "execution_count": 32,
   "id": "a21467fc-a5d2-4ddb-b273-f69eccadf1c6",
   "metadata": {},
   "outputs": [],
   "source": [
    "for s in step_size: \n",
    "    for w in window_size: \n",
    "        \n",
    "        out = 'GCFramePlot_graphs/'+ re.split('/', genome)[1] + '_windowsize' + str(w) + '_stepsize' + str(s) + '.txt'\n",
    "        GCFramePlot(genome, w, s, out).generateTable()"
   ]
  },
  {
   "cell_type": "code",
   "execution_count": 33,
   "id": "31f15f7c-76a1-40c1-b25a-1a79b51125e0",
   "metadata": {},
   "outputs": [],
   "source": [
    "GCFramePlot(genome, 210, 15, out).generateTable()"
   ]
  },
  {
   "cell_type": "code",
   "execution_count": null,
   "id": "3f69fb69-8f2d-4c3f-8a46-5b37c2632956",
   "metadata": {},
   "outputs": [],
   "source": []
  }
 ],
 "metadata": {
  "kernelspec": {
   "display_name": "Python 3 (ipykernel)",
   "language": "python",
   "name": "python3"
  },
  "language_info": {
   "codemirror_mode": {
    "name": "ipython",
    "version": 3
   },
   "file_extension": ".py",
   "mimetype": "text/x-python",
   "name": "python",
   "nbconvert_exporter": "python",
   "pygments_lexer": "ipython3",
   "version": "3.9.10"
  }
 },
 "nbformat": 4,
 "nbformat_minor": 5
}
